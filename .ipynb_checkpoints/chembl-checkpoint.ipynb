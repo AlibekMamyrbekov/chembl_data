{
 "cells": [
  {
   "cell_type": "markdown",
   "metadata": {},
   "source": [
    "Chembl data retrieval"
   ]
  },
  {
   "cell_type": "code",
   "execution_count": 1,
   "metadata": {},
   "outputs": [],
   "source": [
    "import csv\n",
    "from chembl_webresource_client.new_client import new_client\n"
   ]
  },
  {
   "cell_type": "code",
   "execution_count": 51,
   "metadata": {},
   "outputs": [],
   "source": [
    "#activities with assay data\n",
    "# we jump from compounds to targets through activities:\n",
    "activities = new_client.activity.filter(assay_type = 'B').only(['molecule_chembl_id', 'target_chembl_id','standard_type','standard_value','standard_units',\n",
    "                                        'assay_description','assay_type'])[:1000]\n"
   ]
  },
  {
   "cell_type": "code",
   "execution_count": 6,
   "metadata": {},
   "outputs": [],
   "source": [
    "\n",
    "new_test = new_client.activity.filter(assay_type = 'B').filter(standard_type = 'EC50').only(['molecule_chembl_id', 'target_chembl_id','standard_type','standard_value','standard_units',\n",
    "                                        'assay_description','assay_type'])[:10]"
   ]
  },
  {
   "cell_type": "code",
   "execution_count": 7,
   "metadata": {},
   "outputs": [
    {
     "name": "stdout",
     "output_type": "stream",
     "text": [
      "[{'assay_description': 'Ability to stimulate phosphoinositide hydrolysis in NIH3T3 cells expressing the 5-hydroxytryptamine 2A receptor', 'assay_type': 'B', 'molecule_chembl_id': 'CHEMBL6710', 'standard_type': 'EC50', 'standard_units': 'nM', 'standard_value': '8.38', 'target_chembl_id': 'CHEMBL322', 'type': 'EC50', 'units': 'nM', 'value': '8.38'}, {'assay_description': 'Inhibition of [3H]PAF binding to rabbit platelet membrane', 'assay_type': 'B', 'molecule_chembl_id': 'CHEMBL269131', 'standard_type': 'EC50', 'standard_units': 'nM', 'standard_value': '680.0', 'target_chembl_id': 'CHEMBL5136', 'type': 'EC50', 'units': 'uM', 'value': '0.68'}, {'assay_description': 'Inhibition of [3H]PAF binding to rabbit platelet membrane', 'assay_type': 'B', 'molecule_chembl_id': 'CHEMBL6203', 'standard_type': 'EC50', 'standard_units': 'nM', 'standard_value': '610.0', 'target_chembl_id': 'CHEMBL5136', 'type': 'EC50', 'units': 'uM', 'value': '0.61'}, {'assay_description': 'The compound was evaluated for intrinsic activity against human cloned 5-hydroxytryptamine 1B receptor', 'assay_type': 'B', 'molecule_chembl_id': 'CHEMBL323986', 'standard_type': 'EC50', 'standard_units': 'nM', 'standard_value': '1.9', 'target_chembl_id': 'CHEMBL1898', 'type': 'EC50', 'units': 'nM', 'value': '1.9'}, '...(remaining elements truncated)...']\n"
     ]
    }
   ],
   "source": [
    "print(new_test)"
   ]
  },
  {
   "cell_type": "code",
   "execution_count": 8,
   "metadata": {},
   "outputs": [
    {
     "ename": "IndexError",
     "evalue": "list index out of range",
     "output_type": "error",
     "traceback": [
      "\u001b[1;31m---------------------------------------------------------------------------\u001b[0m",
      "\u001b[1;31mIndexError\u001b[0m                                Traceback (most recent call last)",
      "\u001b[1;32m<ipython-input-8-15bae71a079a>\u001b[0m in \u001b[0;36m<module>\u001b[1;34m\u001b[0m\n\u001b[0;32m     10\u001b[0m     \u001b[0mtemp_dict\u001b[0m\u001b[1;33m[\u001b[0m\u001b[1;34m'assay_description'\u001b[0m\u001b[1;33m]\u001b[0m \u001b[1;33m=\u001b[0m \u001b[0mi\u001b[0m\u001b[1;33m[\u001b[0m\u001b[1;34m'assay_description'\u001b[0m\u001b[1;33m]\u001b[0m\u001b[1;33m\u001b[0m\u001b[1;33m\u001b[0m\u001b[0m\n\u001b[0;32m     11\u001b[0m     \u001b[0mtemp_dict\u001b[0m\u001b[1;33m[\u001b[0m\u001b[1;34m'assay_type'\u001b[0m\u001b[1;33m]\u001b[0m \u001b[1;33m=\u001b[0m \u001b[0mi\u001b[0m\u001b[1;33m[\u001b[0m\u001b[1;34m'assay_type'\u001b[0m\u001b[1;33m]\u001b[0m\u001b[1;33m\u001b[0m\u001b[1;33m\u001b[0m\u001b[0m\n\u001b[1;32m---> 12\u001b[1;33m     \u001b[0mtemp_dict\u001b[0m\u001b[1;33m[\u001b[0m\u001b[1;34m'receptor'\u001b[0m\u001b[1;33m]\u001b[0m \u001b[1;33m=\u001b[0m \u001b[0mreceptor\u001b[0m\u001b[1;33m[\u001b[0m\u001b[1;36m0\u001b[0m\u001b[1;33m]\u001b[0m\u001b[1;33m[\u001b[0m\u001b[1;34m'target_components'\u001b[0m\u001b[1;33m]\u001b[0m\u001b[1;33m[\u001b[0m\u001b[1;36m0\u001b[0m\u001b[1;33m]\u001b[0m\u001b[1;33m[\u001b[0m\u001b[1;34m'accession'\u001b[0m\u001b[1;33m]\u001b[0m\u001b[1;33m\u001b[0m\u001b[1;33m\u001b[0m\u001b[0m\n\u001b[0m\u001b[0;32m     13\u001b[0m     \u001b[0mchembl_data\u001b[0m\u001b[1;33m[\u001b[0m\u001b[0mincrement\u001b[0m\u001b[1;33m]\u001b[0m \u001b[1;33m=\u001b[0m \u001b[0mtemp_dict\u001b[0m\u001b[1;33m\u001b[0m\u001b[1;33m\u001b[0m\u001b[0m\n\u001b[0;32m     14\u001b[0m     \u001b[0mincrement\u001b[0m\u001b[1;33m=\u001b[0m\u001b[0mincrement\u001b[0m\u001b[1;33m+\u001b[0m\u001b[1;36m1\u001b[0m\u001b[1;33m\u001b[0m\u001b[1;33m\u001b[0m\u001b[0m\n",
      "\u001b[1;31mIndexError\u001b[0m: list index out of range"
     ]
    }
   ],
   "source": [
    "chembl_data = dict()\n",
    "increment = 0\n",
    "for i in new_test:\n",
    "    temp_dict = dict()\n",
    "    receptor = new_client.target.filter(target_chembl_id = i['target_chembl_id'])    \n",
    "    temp_dict['ligand'] = i['molecule_chembl_id']\n",
    "    temp_dict['standard_type'] = i['standard_type']\n",
    "    temp_dict['standard_value'] = i['standard_value']\n",
    "    temp_dict['standard_units'] = i['standard_units']\n",
    "    temp_dict['assay_description'] = i['assay_description']\n",
    "    temp_dict['assay_type'] = i['assay_type']\n",
    "    temp_dict['receptor'] = receptor[0]['target_components'][0]['accession']\n",
    "    chembl_data[increment] = temp_dict\n",
    "    increment=increment+1\n",
    "    "
   ]
  },
  {
   "cell_type": "code",
   "execution_count": null,
   "metadata": {},
   "outputs": [],
   "source": [
    "for i in chembl_data.items():\n",
    "    print('\\n---chembl---', i)"
   ]
  },
  {
   "cell_type": "code",
   "execution_count": null,
   "metadata": {},
   "outputs": [],
   "source": []
  }
 ],
 "metadata": {
  "kernelspec": {
   "display_name": "Python 3",
   "language": "python",
   "name": "python3"
  },
  "language_info": {
   "codemirror_mode": {
    "name": "ipython",
    "version": 3
   },
   "file_extension": ".py",
   "mimetype": "text/x-python",
   "name": "python",
   "nbconvert_exporter": "python",
   "pygments_lexer": "ipython3",
   "version": "3.7.7"
  }
 },
 "nbformat": 4,
 "nbformat_minor": 4
}
