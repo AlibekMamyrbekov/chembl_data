{
 "cells": [
  {
   "cell_type": "markdown",
   "metadata": {},
   "source": [
    "Chembl data retrieval"
   ]
  },
  {
   "cell_type": "code",
   "execution_count": 112,
   "metadata": {},
   "outputs": [],
   "source": [
    "import csv\n",
    "from chembl_webresource_client.new_client import new_client\n"
   ]
  },
  {
   "cell_type": "code",
   "execution_count": 51,
   "metadata": {},
   "outputs": [],
   "source": [
    "#activities with assay data\n",
    "# we jump from compounds to targets through activities:\n",
    "activities = new_client.activity.filter(assay_type = 'B').only(['molecule_chembl_id', 'target_chembl_id','standard_type','standard_value','standard_units',\n",
    "                                        'assay_description','assay_type'])[:1000]\n"
   ]
  },
  {
   "cell_type": "code",
   "execution_count": 113,
   "metadata": {},
   "outputs": [],
   "source": [
    "\n",
    "new_test = new_client.activity.filter(assay_type = 'B').filter(standard_type = 'EC50').only(['molecule_chembl_id', 'target_chembl_id','standard_type','standard_value','standard_units',\n",
    "                                        'assay_description','assay_type'])[:3]"
   ]
  },
  {
   "cell_type": "code",
   "execution_count": 114,
   "metadata": {},
   "outputs": [
    {
     "name": "stdout",
     "output_type": "stream",
     "text": [
      "[{'assay_description': 'Ability to stimulate phosphoinositide hydrolysis in NIH3T3 cells expressing the 5-hydroxytryptamine 2A receptor', 'assay_type': 'B', 'molecule_chembl_id': 'CHEMBL6710', 'standard_type': 'EC50', 'standard_units': 'nM', 'standard_value': '8.38', 'target_chembl_id': 'CHEMBL322', 'type': 'EC50', 'units': 'nM', 'value': '8.38'}, {'assay_description': 'Inhibition of [3H]PAF binding to rabbit platelet membrane', 'assay_type': 'B', 'molecule_chembl_id': 'CHEMBL269131', 'standard_type': 'EC50', 'standard_units': 'nM', 'standard_value': '680.0', 'target_chembl_id': 'CHEMBL5136', 'type': 'EC50', 'units': 'uM', 'value': '0.68'}, {'assay_description': 'Inhibition of [3H]PAF binding to rabbit platelet membrane', 'assay_type': 'B', 'molecule_chembl_id': 'CHEMBL6203', 'standard_type': 'EC50', 'standard_units': 'nM', 'standard_value': '610.0', 'target_chembl_id': 'CHEMBL5136', 'type': 'EC50', 'units': 'uM', 'value': '0.61'}]\n"
     ]
    }
   ],
   "source": [
    "print(new_test)"
   ]
  },
  {
   "cell_type": "code",
   "execution_count": 115,
   "metadata": {},
   "outputs": [],
   "source": [
    "chembl_data = dict()\n",
    "increment = 0\n",
    "for i in new_test:\n",
    "    temp_dict = dict()\n",
    "    receptor = new_client.target.filter(target_chembl_id = i['target_chembl_id'])    \n",
    "    temp_dict['ligand'] = i['molecule_chembl_id']\n",
    "    temp_dict['standard_type'] = i['standard_type']\n",
    "    temp_dict['standard_value'] = i['standard_value']\n",
    "    temp_dict['standard_units'] = i['standard_units']\n",
    "    temp_dict['assay_description'] = i['assay_description']\n",
    "    temp_dict['assay_type'] = i['assay_type']\n",
    "    temp_dict['receptor'] = receptor[0]['target_components'][0]['accession']\n",
    "    chembl_data[increment] = temp_dict\n",
    "    increment=increment+1\n",
    "    "
   ]
  },
  {
   "cell_type": "code",
   "execution_count": 116,
   "metadata": {},
   "outputs": [
    {
     "name": "stdout",
     "output_type": "stream",
     "text": [
      "\n",
      "---chembl--- (0, {'ligand': 'CHEMBL6710', 'standard_type': 'EC50', 'standard_value': '8.38', 'standard_units': 'nM', 'assay_description': 'Ability to stimulate phosphoinositide hydrolysis in NIH3T3 cells expressing the 5-hydroxytryptamine 2A receptor', 'assay_type': 'B', 'receptor': 'P14842'})\n",
      "\n",
      "---chembl--- (1, {'ligand': 'CHEMBL269131', 'standard_type': 'EC50', 'standard_value': '680.0', 'standard_units': 'nM', 'assay_description': 'Inhibition of [3H]PAF binding to rabbit platelet membrane', 'assay_type': 'B', 'receptor': 'P21556'})\n",
      "\n",
      "---chembl--- (2, {'ligand': 'CHEMBL6203', 'standard_type': 'EC50', 'standard_value': '610.0', 'standard_units': 'nM', 'assay_description': 'Inhibition of [3H]PAF binding to rabbit platelet membrane', 'assay_type': 'B', 'receptor': 'P21556'})\n"
     ]
    }
   ],
   "source": [
    "for i in chembl_data.items():\n",
    "    print('\\n---chembl---', i)"
   ]
  },
  {
   "cell_type": "code",
   "execution_count": null,
   "metadata": {},
   "outputs": [],
   "source": []
  }
 ],
 "metadata": {
  "kernelspec": {
   "display_name": "Python 3",
   "language": "python",
   "name": "python3"
  },
  "language_info": {
   "codemirror_mode": {
    "name": "ipython",
    "version": 3
   },
   "file_extension": ".py",
   "mimetype": "text/x-python",
   "name": "python",
   "nbconvert_exporter": "python",
   "pygments_lexer": "ipython3",
   "version": "3.7.7"
  }
 },
 "nbformat": 4,
 "nbformat_minor": 4
}
