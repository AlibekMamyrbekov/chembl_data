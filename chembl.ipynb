{
 "cells": [
  {
   "cell_type": "markdown",
   "metadata": {},
   "source": [
    "Chembl data retrieval"
   ]
  },
  {
   "cell_type": "code",
   "execution_count": 1,
   "metadata": {},
   "outputs": [],
   "source": [
    "import csv\n",
    "from chembl_webresource_client.new_client import new_client\n"
   ]
  },
  {
   "cell_type": "code",
   "execution_count": 2,
   "metadata": {},
   "outputs": [],
   "source": [
    "#activities with assay data\n",
    "# we jump from compounds to targets through activities:\n",
    "activities = new_client.activity.filter(assay_type = 'B|F').only(['molecule_chembl_id', 'target_chembl_id','standard_type','standard_value','standard_units',\n",
    "                                        'assay_description','assay_type','standard_relation'])[:1]\n"
   ]
  },
  {
   "cell_type": "code",
   "execution_count": 20,
   "metadata": {},
   "outputs": [],
   "source": [
    "\n",
    "new_test = new_client.activity.filter(assay_type = 'F').filter(standard_type = 'EC50').only(['molecule_chembl_id', 'target_chembl_id','standard_type','standard_value','standard_units',\n",
    "                                        'assay_description','assay_type', 'standard_relation'])[:30]"
   ]
  },
  {
   "cell_type": "code",
   "execution_count": 4,
   "metadata": {},
   "outputs": [
    {
     "name": "stdout",
     "output_type": "stream",
     "text": [
      "[{'assay_description': 'Effective concentration of compound achieving 50% protection in CEM cell lines against the cytopathic effect of HIV-1', 'assay_type': 'F', 'molecule_chembl_id': 'CHEMBL174698', 'relation': '<', 'standard_relation': '<', 'standard_type': 'EC50', 'standard_units': 'nM', 'standard_value': '63.6', 'target_chembl_id': 'CHEMBL382', 'type': 'EC50', 'units': 'uM', 'value': '0.0636'}, {'assay_description': 'In vitro antimalarial activity against Plasmodium falciparum FCR3', 'assay_type': 'F', 'molecule_chembl_id': 'CHEMBL295054', 'relation': '=', 'standard_relation': '=', 'standard_type': 'EC50', 'standard_units': 'nM', 'standard_value': '13000.0', 'target_chembl_id': 'CHEMBL364', 'type': 'EC50', 'units': 'M', 'value': '0.000013'}, {'assay_description': 'Effect on PI turnover in intact CHO-K1 cells', 'assay_type': 'F', 'molecule_chembl_id': 'CHEMBL21521', 'relation': '~', 'standard_relation': '~', 'standard_type': 'EC50', 'standard_units': 'nM', 'standard_value': '1300.0', 'target_chembl_id': 'CHEMBL614031', 'type': 'EC50', 'units': 'uM', 'value': '1.3'}]\n"
     ]
    }
   ],
   "source": [
    "print(new_test)"
   ]
  },
  {
   "cell_type": "code",
   "execution_count": 21,
   "metadata": {},
   "outputs": [],
   "source": [
    "chembl_data = dict()\n",
    "increment = 0\n",
    "for i in new_test:\n",
    "    temp_dict = dict()\n",
    "    receptor = new_client.target.filter(target_chembl_id = i['target_chembl_id'])    \n",
    "    temp_dict['ligand'] = i['molecule_chembl_id']\n",
    "    temp_dict['standard_type'] = i['standard_type']\n",
    "    temp_dict['standard_value'] = i['standard_value']\n",
    "    temp_dict['standard_units'] = i['standard_units']\n",
    "    temp_dict['standard_relation'] = i['standard_relation']\n",
    "    temp_dict['assay_description'] = i['assay_description']\n",
    "    temp_dict['assay_type'] = i['assay_type']\n",
    "    temp_dict['receptor'] = receptor[0]['pref_name']\n",
    "    chembl_data[increment] = temp_dict\n",
    "    increment=increment+1\n",
    "    "
   ]
  },
  {
   "cell_type": "code",
   "execution_count": 22,
   "metadata": {},
   "outputs": [
    {
     "name": "stdout",
     "output_type": "stream",
     "text": [
      "\n",
      "---chembl--- (0, {'ligand': 'CHEMBL174698', 'standard_type': 'EC50', 'standard_value': '63.6', 'standard_units': 'nM', 'standard_relation': '<', 'assay_description': 'Effective concentration of compound achieving 50% protection in CEM cell lines against the cytopathic effect of HIV-1', 'assay_type': 'F', 'receptor': 'CCRF-CEM'})\n",
      "\n",
      "---chembl--- (1, {'ligand': 'CHEMBL295054', 'standard_type': 'EC50', 'standard_value': '13000.0', 'standard_units': 'nM', 'standard_relation': '=', 'assay_description': 'In vitro antimalarial activity against Plasmodium falciparum FCR3', 'assay_type': 'F', 'receptor': 'Plasmodium falciparum'})\n",
      "\n",
      "---chembl--- (2, {'ligand': 'CHEMBL21521', 'standard_type': 'EC50', 'standard_value': '1300.0', 'standard_units': 'nM', 'standard_relation': '~', 'assay_description': 'Effect on PI turnover in intact CHO-K1 cells', 'assay_type': 'F', 'receptor': 'CHO-K1'})\n",
      "\n",
      "---chembl--- (3, {'ligand': 'CHEMBL111217', 'standard_type': 'EC50', 'standard_value': None, 'standard_units': None, 'standard_relation': None, 'assay_description': 'In vitro agonistic activity against RXR alpha in CV-1 cells; NC= Not calculated', 'assay_type': 'F', 'receptor': 'Retinoid X receptor alpha'})\n",
      "\n",
      "---chembl--- (4, {'ligand': 'CHEMBL111217', 'standard_type': 'EC50', 'standard_value': '63.0', 'standard_units': 'nM', 'standard_relation': '=', 'assay_description': 'In vitro agonist efficacy against PPAR gamma along with 100 nM BRL-49653', 'assay_type': 'F', 'receptor': 'Peroxisome proliferator-activated receptor gamma'})\n",
      "\n",
      "---chembl--- (5, {'ligand': 'CHEMBL111217', 'standard_type': 'EC50', 'standard_value': '6.4', 'standard_units': 'nM', 'standard_relation': '=', 'assay_description': 'In vitro agonistic activity against PPAR gamma along with 100 nM BRL-49653', 'assay_type': 'F', 'receptor': 'Peroxisome proliferator-activated receptor gamma'})\n",
      "\n",
      "---chembl--- (6, {'ligand': 'CHEMBL415341', 'standard_type': 'EC50', 'standard_value': '9.0', 'standard_units': 'nM', 'standard_relation': '=', 'assay_description': 'Agonist activity at human melanocortin receptor (hMC4R).', 'assay_type': 'F', 'receptor': 'Melanocortin receptor 4'})\n",
      "\n",
      "---chembl--- (7, {'ligand': 'CHEMBL437822', 'standard_type': 'EC50', 'standard_value': '7.0', 'standard_units': 'nM', 'standard_relation': '=', 'assay_description': 'Agonist activity at human melanocortin receptor (hMC4R).', 'assay_type': 'F', 'receptor': 'Melanocortin receptor 4'})\n",
      "\n",
      "---chembl--- (8, {'ligand': 'CHEMBL437822', 'standard_type': 'EC50', 'standard_value': '1330.0', 'standard_units': 'nM', 'standard_relation': '=', 'assay_description': 'Agonist activity at human melanocortin receptor (hMC1R).', 'assay_type': 'F', 'receptor': 'Melanocortin receptor 1'})\n",
      "\n",
      "---chembl--- (9, {'ligand': 'CHEMBL443325', 'standard_type': 'EC50', 'standard_value': '460.0', 'standard_units': 'nM', 'standard_relation': '=', 'assay_description': 'Agonist efficacy assessed from contractile responses on rabbit aorta (AT1)', 'assay_type': 'F', 'receptor': 'Oryctolagus cuniculus'})\n",
      "\n",
      "---chembl--- (10, {'ligand': 'CHEMBL268064', 'standard_type': 'EC50', 'standard_value': '8000.0', 'standard_units': 'nM', 'standard_relation': '=', 'assay_description': 'Evaluated for the activation of human thrombin receptor measured by platelet aggregation', 'assay_type': 'F', 'receptor': 'Proteinase-activated receptor 1'})\n",
      "\n",
      "---chembl--- (11, {'ligand': 'CHEMBL115543', 'standard_type': 'EC50', 'standard_value': '1000.0', 'standard_units': 'nM', 'standard_relation': '=', 'assay_description': 'Evaluated for the activation of human thrombin receptor measured by platelet aggregation', 'assay_type': 'F', 'receptor': 'Proteinase-activated receptor 1'})\n",
      "\n",
      "---chembl--- (12, {'ligand': 'CHEMBL335036', 'standard_type': 'EC50', 'standard_value': '800000.0', 'standard_units': 'nM', 'standard_relation': '>', 'assay_description': 'Evaluated for the activation of human thrombin receptor measured by platelet aggregation', 'assay_type': 'F', 'receptor': 'Proteinase-activated receptor 1'})\n",
      "\n",
      "---chembl--- (13, {'ligand': 'CHEMBL337875', 'standard_type': 'EC50', 'standard_value': '800.0', 'standard_units': 'nM', 'standard_relation': '=', 'assay_description': 'Evaluated for the activation of human thrombin receptor measured by platelet aggregation', 'assay_type': 'F', 'receptor': 'Proteinase-activated receptor 1'})\n",
      "\n",
      "---chembl--- (14, {'ligand': 'CHEMBL130058', 'standard_type': 'EC50', 'standard_value': '70000.0', 'standard_units': 'nM', 'standard_relation': '=', 'assay_description': 'Evaluated for the activation of human thrombin receptor measured by platelet aggregation', 'assay_type': 'F', 'receptor': 'Proteinase-activated receptor 1'})\n",
      "\n",
      "---chembl--- (15, {'ligand': 'CHEMBL132254', 'standard_type': 'EC50', 'standard_value': '800000.0', 'standard_units': 'nM', 'standard_relation': '=', 'assay_description': 'Evaluated for the activation of human thrombin receptor measured by platelet aggregation', 'assay_type': 'F', 'receptor': 'Proteinase-activated receptor 1'})\n",
      "\n",
      "---chembl--- (16, {'ligand': 'CHEMBL433847', 'standard_type': 'EC50', 'standard_value': '800000.0', 'standard_units': 'nM', 'standard_relation': '>', 'assay_description': 'Evaluated for the activation of human thrombin receptor measured by platelet aggregation', 'assay_type': 'F', 'receptor': 'Proteinase-activated receptor 1'})\n",
      "\n",
      "---chembl--- (17, {'ligand': 'CHEMBL423694', 'standard_type': 'EC50', 'standard_value': '13.7', 'standard_units': 'nM', 'standard_relation': '=', 'assay_description': 'Effective concentration as delta agonist potency using [35S]GTP-gamma-S binding assay.', 'assay_type': 'F', 'receptor': 'Delta opioid receptor'})\n",
      "\n",
      "---chembl--- (18, {'ligand': 'CHEMBL3215340', 'standard_type': 'EC50', 'standard_value': '250000.0', 'standard_units': 'nM', 'standard_relation': '>', 'assay_description': 'Effective concentration of compound required to protect human T-lymphocytic cells against the cytopathogenicity of HIV-1', 'assay_type': 'F', 'receptor': 'Human immunodeficiency virus 1'})\n",
      "\n",
      "---chembl--- (19, {'ligand': 'CHEMBL3215340', 'standard_type': 'EC50', 'standard_value': '250000.0', 'standard_units': 'nM', 'standard_relation': '>', 'assay_description': 'Concentration required to protect human T-lymphocytic cells against the cytopathogenicity of HIV-2', 'assay_type': 'F', 'receptor': 'Human immunodeficiency virus 2'})\n",
      "\n",
      "---chembl--- (20, {'ligand': 'CHEMBL3215340', 'standard_type': 'EC50', 'standard_value': '100000.0', 'standard_units': 'nM', 'standard_relation': '>', 'assay_description': 'Effective concentration of compound required to protect C3H/3T3 embryo murine fibroblasts against the MSV induced transformation', 'assay_type': 'F', 'receptor': 'Mus musculus'})\n",
      "\n",
      "---chembl--- (21, {'ligand': 'CHEMBL405267', 'standard_type': 'EC50', 'standard_value': '750.0', 'standard_units': 'nM', 'standard_relation': '=', 'assay_description': 'Effective concentration of compound required to protect human T-lymphocytic cells against the cytopathogenicity of HIV-1', 'assay_type': 'F', 'receptor': 'Human immunodeficiency virus 1'})\n",
      "\n",
      "---chembl--- (22, {'ligand': 'CHEMBL405267', 'standard_type': 'EC50', 'standard_value': '4500.0', 'standard_units': 'nM', 'standard_relation': '=', 'assay_description': 'Concentration required to protect human T-lymphocytic cells against the cytopathogenicity of HIV-2', 'assay_type': 'F', 'receptor': 'Human immunodeficiency virus 2'})\n",
      "\n",
      "---chembl--- (23, {'ligand': 'CHEMBL405267', 'standard_type': 'EC50', 'standard_value': '4000.0', 'standard_units': 'nM', 'standard_relation': '>', 'assay_description': 'Effective concentration of compound required to protect C3H/3T3 embryo murine fibroblasts against the MSV induced transformation', 'assay_type': 'F', 'receptor': 'Mus musculus'})\n",
      "\n",
      "---chembl--- (24, {'ligand': 'CHEMBL134277', 'standard_type': 'EC50', 'standard_value': '0.71', 'standard_units': 'nM', 'standard_relation': '=', 'assay_description': 'Agonistic activity against human progesterone receptor in CV-1 cells', 'assay_type': 'F', 'receptor': 'Progesterone receptor'})\n",
      "\n",
      "---chembl--- (25, {'ligand': 'CHEMBL134277', 'standard_type': 'EC50', 'standard_value': '5.5', 'standard_units': 'nM', 'standard_relation': '=', 'assay_description': 'Agonistic activity against human progesterone receptor in T47D breast cancer cells', 'assay_type': 'F', 'receptor': 'Progesterone receptor'})\n",
      "\n",
      "---chembl--- (26, {'ligand': 'CHEMBL335538', 'standard_type': 'EC50', 'standard_value': '19000.0', 'standard_units': 'nM', 'standard_relation': '=', 'assay_description': 'Evaluated for agonist activity against phospholipase C coupled P2Y purinoceptor 1 (P2Y1) of turkey erythrocytes', 'assay_type': 'F', 'receptor': 'P2Y purinoceptor 1'})\n",
      "\n",
      "---chembl--- (27, {'ligand': 'CHEMBL335538', 'standard_type': 'EC50', 'standard_value': '9000.0', 'standard_units': 'nM', 'standard_relation': '=', 'assay_description': 'Agonist activity against phospholipase C coupled human P2Y purinoceptor 11 (P2Y11)', 'assay_type': 'F', 'receptor': 'Purinergic receptor P2Y11'})\n",
      "\n",
      "---chembl--- (28, {'ligand': 'CHEMBL335206', 'standard_type': 'EC50', 'standard_value': '96.0', 'standard_units': 'nM', 'standard_relation': '=', 'assay_description': 'Evaluated for agonist activity against phospholipase C coupled P2Y purinoceptor 1 (P2Y1) of turkey erythrocytes', 'assay_type': 'F', 'receptor': 'P2Y purinoceptor 1'})\n",
      "\n",
      "---chembl--- (29, {'ligand': 'CHEMBL335206', 'standard_type': 'EC50', 'standard_value': '30000.0', 'standard_units': 'nM', 'standard_relation': '=', 'assay_description': 'Agonist activity against phospholipase C coupled human P2Y purinoceptor 11 (P2Y11)', 'assay_type': 'F', 'receptor': 'Purinergic receptor P2Y11'})\n"
     ]
    }
   ],
   "source": [
    "for i in chembl_data.items():\n",
    "    print('\\n---chembl---', i)"
   ]
  },
  {
   "cell_type": "code",
   "execution_count": null,
   "metadata": {},
   "outputs": [],
   "source": []
  },
  {
   "cell_type": "code",
   "execution_count": null,
   "metadata": {},
   "outputs": [],
   "source": []
  },
  {
   "cell_type": "code",
   "execution_count": null,
   "metadata": {},
   "outputs": [],
   "source": []
  },
  {
   "cell_type": "code",
   "execution_count": null,
   "metadata": {},
   "outputs": [],
   "source": []
  }
 ],
 "metadata": {
  "kernelspec": {
   "display_name": "Python 3",
   "language": "python",
   "name": "python3"
  },
  "language_info": {
   "codemirror_mode": {
    "name": "ipython",
    "version": 3
   },
   "file_extension": ".py",
   "mimetype": "text/x-python",
   "name": "python",
   "nbconvert_exporter": "python",
   "pygments_lexer": "ipython3",
   "version": "3.7.7"
  }
 },
 "nbformat": 4,
 "nbformat_minor": 4
}
